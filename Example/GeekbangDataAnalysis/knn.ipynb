{
 "cells": [
  {
   "cell_type": "code",
   "execution_count": 4,
   "metadata": {},
   "outputs": [],
   "source": [
    "# 手写数字分类\n",
    "from sklearn.model_selection import train_test_split\n",
    "from sklearn import preprocessing\n",
    "from sklearn.metrics import accuracy_score\n",
    "from sklearn.datasets import load_digits\n",
    "from sklearn.neighbors import KNeighborsClassifier\n",
    "from sklearn.svm import SVC\n",
    "from sklearn.naive_bayes import MultinomialNB\n",
    "from sklearn.tree import DecisionTreeClassifier\n",
    "import matplotlib.pyplot as plt"
   ]
  },
  {
   "cell_type": "code",
   "execution_count": 5,
   "metadata": {},
   "outputs": [],
   "source": [
    "# 加载数据\n",
    "digits = load_digits()\n",
    "data = digits.data "
   ]
  },
  {
   "cell_type": "code",
   "execution_count": 7,
   "metadata": {},
   "outputs": [
    {
     "name": "stdout",
     "output_type": "stream",
     "text": [
      "(1797, 64)\n",
      "[[ 0.  0.  5. 13.  9.  1.  0.  0.]\n",
      " [ 0.  0. 13. 15. 10. 15.  5.  0.]\n",
      " [ 0.  3. 15.  2.  0. 11.  8.  0.]\n",
      " [ 0.  4. 12.  0.  0.  8.  8.  0.]\n",
      " [ 0.  5.  8.  0.  0.  9.  8.  0.]\n",
      " [ 0.  4. 11.  0.  1. 12.  7.  0.]\n",
      " [ 0.  2. 14.  5. 10. 12.  0.  0.]\n",
      " [ 0.  0.  6. 13. 10.  0.  0.  0.]]\n",
      "0\n"
     ]
    },
    {
     "data": {
      "image/png": "[encoded data removed]",
      "text/plain": [
       "<Figure size 432x288 with 1 Axes>"
      ]
     },
     "metadata": {
      "needs_background": "light"
     },
     "output_type": "display_data"
    }
   ],
   "source": [
    "# 数据探索\n",
    "print(data.shape)\n",
    "# 查看第一幅图像\n",
    "print(digits.images[0])\n",
    "# 第一幅图像代表的数字含义\n",
    "print(digits.target[0])\n",
    "# 将第一幅图像显示出来\n",
    "plt.gray()\n",
    "plt.imshow(digits.images[0])\n",
    "plt.show()"
   ]
  },
  {
   "cell_type": "code",
   "execution_count": 12,
   "metadata": {},
   "outputs": [],
   "source": [
    "# 分割数据、将 25% 的数据作为测试集、其余作为训练集\n",
    "train_x, test_x, train_y, test_y = train_test_split(data, digits.target, test_size=0.25, random_state=33)\n"
   ]
  },
  {
   "cell_type": "code",
   "execution_count": 13,
   "metadata": {},
   "outputs": [
    {
     "name": "stdout",
     "output_type": "stream",
     "text": [
      "KNN 准确率：0.9756\n",
      "SVM 准确率：0.1844\n"
     ]
    }
   ],
   "source": [
    "# 采用 Z-Score 规范化\n",
    "ss = preprocessing.StandardScaler()\n",
    "train_ss_x = ss.fit_transform(train_x)\n",
    "test_ss_x = ss.transform(test_x)\n",
    "\n",
    "# 创建 KNN 分类器\n",
    "knn = KNeighborsClassifier()\n",
    "knn.fit(train_ss_x, train_y)\n",
    "predict_y = knn.predict(test_ss_x)\n",
    "print('KNN 准确率：%.4lf' % accuracy_score(test_y, predict_y))\n",
    "\n",
    "# 创建 SVM 分类器\n",
    "svm = SVC()\n",
    "svm.fit(train_x, train_y)\n",
    "predict_y = svm.predict(test_ss_x)\n",
    "print('SVM 准确率：%.4lf' % accuracy_score(test_y, predict_y))"
   ]
  },
  {
   "cell_type": "code",
   "execution_count": 19,
   "metadata": {},
   "outputs": [
    {
     "name": "stdout",
     "output_type": "stream",
     "text": [
      "多项式朴素贝叶斯准确率：0.8844\n",
      "CART 决策树准确率：0.8533\n"
     ]
    }
   ],
   "source": [
    "# 采用 Min-Max 规范化\n",
    "mm = preprocessing.MinMaxScaler()\n",
    "train_mm_x = mm.fit_transform(train_x)\n",
    "test_mm_x = mm.transform(test_x)\n",
    "\n",
    "# 创建 Naive Bayes 分类器\n",
    "mnb = MultinomialNB()\n",
    "mnb.fit(train_mm_x, train_y)\n",
    "predict_y = mnb.predict(test_mm_x)\n",
    "print('多项式朴素贝叶斯准确率：%.4lf' % accuracy_score(test_y, predict_y))\n",
    "\n",
    "# 创建 CART 决策树分类器\n",
    "dtc = DecisionTreeClassifier()\n",
    "dtc.fit(train_mm_x, train_y)\n",
    "predict_y = dtc.predict(test_mm_x)\n",
    "print('CART 决策树准确率：%.4lf' % accuracy_score(test_y, predict_y))"
   ]
  }
 ],
 "metadata": {
  "kernelspec": {
   "display_name": "Python 3.10.2 ('venv': venv)",
   "language": "python",
   "name": "python3"
  },
  "language_info": {
   "codemirror_mode": {
    "name": "ipython",
    "version": 3
   },
   "file_extension": ".py",
   "mimetype": "text/x-python",
   "name": "python",
   "nbconvert_exporter": "python",
   "pygments_lexer": "ipython3",
   "version": "3.10.2"
  },
  "orig_nbformat": 4,
  "vscode": {
   "interpreter": {
    "hash": "497e083effc866698ebe90204fcd147bc56f56a5d7e13228b9329536eb24944c"
   }
  }
 },
 "nbformat": 4,
 "nbformat_minor": 2
}
