{
 "cells": [
  {
   "cell_type": "code",
   "execution_count": 24,
   "metadata": {},
   "outputs": [],
   "source": [
    "# 下载某个导演的电影数据集\n",
    "from efficient_apriori import apriori\n",
    "from lxml import etree\n",
    "import time\n",
    "from selenium import webdriver\n",
    "from webdriver_manager.chrome import ChromeDriverManager\n",
    "import csv"
   ]
  },
  {
   "cell_type": "code",
   "execution_count": 28,
   "metadata": {},
   "outputs": [
    {
     "name": "stdout",
     "output_type": "stream",
     "text": [
      "\n"
     ]
    },
    {
     "name": "stderr",
     "output_type": "stream",
     "text": [
      "/var/folders/gl/k85fznm93rjg0hmcn_57s_980000gq/T/ipykernel_24185/2714047961.py:1: DeprecationWarning: executable_path has been deprecated, please pass in a Service object\n",
      "  driver = webdriver.Chrome(ChromeDriverManager().install())\n"
     ]
    },
    {
     "ename": "AttributeError",
     "evalue": "'WebDriver' object has no attribute 'find_element_by_xpath'",
     "output_type": "error",
     "traceback": [
      "\u001b[0;31m---------------------------------------------------------------------------\u001b[0m",
      "\u001b[0;31mAttributeError\u001b[0m                            Traceback (most recent call last)",
      "\u001b[1;32m/Users/admin/Workspace/DataDev/Example/GeekbangDataAnalysis/apriori/Apriori.ipynb Cell 2\u001b[0m in \u001b[0;36m<cell line: 49>\u001b[0;34m()\u001b[0m\n\u001b[1;32m     <a href='vscode-notebook-cell:/Users/admin/Workspace/DataDev/Example/GeekbangDataAnalysis/apriori/Apriori.ipynb#W1sZmlsZQ%3D%3D?line=48'>49</a>\u001b[0m \u001b[39mwhile\u001b[39;00m start \u001b[39m<\u001b[39m \u001b[39m10000\u001b[39m:\n\u001b[1;32m     <a href='vscode-notebook-cell:/Users/admin/Workspace/DataDev/Example/GeekbangDataAnalysis/apriori/Apriori.ipynb#W1sZmlsZQ%3D%3D?line=49'>50</a>\u001b[0m     request_url \u001b[39m=\u001b[39m base_url \u001b[39m+\u001b[39m \u001b[39mstr\u001b[39m(start)\n\u001b[0;32m---> <a href='vscode-notebook-cell:/Users/admin/Workspace/DataDev/Example/GeekbangDataAnalysis/apriori/Apriori.ipynb#W1sZmlsZQ%3D%3D?line=50'>51</a>\u001b[0m     flag \u001b[39m=\u001b[39m download(request_url)\n\u001b[1;32m     <a href='vscode-notebook-cell:/Users/admin/Workspace/DataDev/Example/GeekbangDataAnalysis/apriori/Apriori.ipynb#W1sZmlsZQ%3D%3D?line=51'>52</a>\u001b[0m     \u001b[39mif\u001b[39;00m flag:\n\u001b[1;32m     <a href='vscode-notebook-cell:/Users/admin/Workspace/DataDev/Example/GeekbangDataAnalysis/apriori/Apriori.ipynb#W1sZmlsZQ%3D%3D?line=52'>53</a>\u001b[0m         start \u001b[39m=\u001b[39m start \u001b[39m+\u001b[39m \u001b[39m15\u001b[39m\n",
      "\u001b[1;32m/Users/admin/Workspace/DataDev/Example/GeekbangDataAnalysis/apriori/Apriori.ipynb Cell 2\u001b[0m in \u001b[0;36mdownload\u001b[0;34m(request_url)\u001b[0m\n\u001b[1;32m     <a href='vscode-notebook-cell:/Users/admin/Workspace/DataDev/Example/GeekbangDataAnalysis/apriori/Apriori.ipynb#W1sZmlsZQ%3D%3D?line=12'>13</a>\u001b[0m driver\u001b[39m.\u001b[39mget(request_url)\n\u001b[1;32m     <a href='vscode-notebook-cell:/Users/admin/Workspace/DataDev/Example/GeekbangDataAnalysis/apriori/Apriori.ipynb#W1sZmlsZQ%3D%3D?line=13'>14</a>\u001b[0m time\u001b[39m.\u001b[39msleep(\u001b[39m1\u001b[39m)\n\u001b[0;32m---> <a href='vscode-notebook-cell:/Users/admin/Workspace/DataDev/Example/GeekbangDataAnalysis/apriori/Apriori.ipynb#W1sZmlsZQ%3D%3D?line=14'>15</a>\u001b[0m html \u001b[39m=\u001b[39m driver\u001b[39m.\u001b[39;49mfind_element_by_xpath(\u001b[39m'\u001b[39m\u001b[39m//*\u001b[39m\u001b[39m'\u001b[39m)\u001b[39m.\u001b[39mget_attribute(\u001b[39m'\u001b[39m\u001b[39mouterHTML\u001b[39m\u001b[39m'\u001b[39m)\n\u001b[1;32m     <a href='vscode-notebook-cell:/Users/admin/Workspace/DataDev/Example/GeekbangDataAnalysis/apriori/Apriori.ipynb#W1sZmlsZQ%3D%3D?line=15'>16</a>\u001b[0m html \u001b[39m=\u001b[39m etree\u001b[39m.\u001b[39mHTML(html)\n\u001b[1;32m     <a href='vscode-notebook-cell:/Users/admin/Workspace/DataDev/Example/GeekbangDataAnalysis/apriori/Apriori.ipynb#W1sZmlsZQ%3D%3D?line=16'>17</a>\u001b[0m \u001b[39m# 设置电影名称、导演、演员的 XPATH\u001b[39;00m\n",
      "\u001b[0;31mAttributeError\u001b[0m: 'WebDriver' object has no attribute 'find_element_by_xpath'"
     ]
    }
   ],
   "source": [
    "driver = webdriver.Chrome(ChromeDriverManager().install())\n",
    "# 设置想要下载的导演数据集\n",
    "director = u'宁浩'\n",
    "# 写入 CSV 文件\n",
    "file_name = './'  + 'ninghao.csv'\n",
    "base_url = 'https://movie.douban.com/subject_search?search_text='+director+'&cat=1002&start='\n",
    "out = open(file_name, newline='', encoding='utf-8-sig')\n",
    "csv_write = csv.writer(out, dialect='excel')\n",
    "flags = []\n",
    "\n",
    "# 下载指定页面数据\n",
    "def download(request_url):\n",
    "    driver.get(request_url)\n",
    "    time.sleep(1)\n",
    "    html = driver.find_element_by_xpath('//*').get_attribute('outerHTML')\n",
    "    html = etree.HTML(html)\n",
    "    # 设置电影名称、导演、演员的 XPATH\n",
    "    movie_lists = html.xpath(\"/html/body/div[@id='wrapper']/div[@id='root']/div[1]//div[@class='item-root']/div[@class='detail']/div[@class='title']/a[@class='title-text']\") \n",
    "    name_lists = html.xpath(\"/html/body/div[@id='wrapper']/div[@id='root']/div[1]//div[@class='item-root']/div[@class='detail']/div[@class='meta abstract_2']\")\n",
    "    # 获取返回的数据个数\n",
    "    num = len(movie_lists)\n",
    "    if num > 15:\n",
    "        movie_lists = movie_lists[1:]\n",
    "        name_lists = name_lists[1:]\n",
    "    for (movie, name_list) in zip(movie_lists, name_list):\n",
    "        # 会存在数据为空的情况\n",
    "        if name_list.text is None:\n",
    "            continue\n",
    "        # 显示下演员名称\n",
    "        print(name_list.text)\n",
    "        names = name_list.text.split('/')\n",
    "        # 判断导演是否为指定的 director\n",
    "        if names[0].strip() == director and movie.text not in flags:\n",
    "            # 将第一个字段设置为电影名称\n",
    "            names[0] = movie.text\n",
    "            flags.append(movie.text)\n",
    "            csv_write.writerow(names)\n",
    "    print('OK')\n",
    "    print(num)\n",
    "    if num >= 14:\n",
    "        # 继续下一页\n",
    "        return True\n",
    "    else:\n",
    "        # 没有下一页\n",
    "        return False\n",
    "\n",
    "# 开始的 ID 为 0、每页增加 15\n",
    "start = 0\n",
    "while start < 10000:\n",
    "    request_url = base_url + str(start)\n",
    "    flag = download(request_url)\n",
    "    if flag:\n",
    "        start = start + 15\n",
    "    else:\n",
    "        break\n",
    "out.close()\n",
    "print('finished')"
   ]
  },
  {
   "cell_type": "code",
   "execution_count": null,
   "metadata": {},
   "outputs": [],
   "source": [
    "lists = csv.reader(file_name, 'r', encoding='utf-8-sig')\n",
    "# 数据加载\n",
    "data = []\n",
    "for names in lists:\n",
    "    name_new = []\n",
    "    for name in names:\n",
    "        # 去掉演员数据中的空格\n",
    "        name_new.append(name.strip())\n",
    "    data.append(name_new[1:])\n",
    "# 挖掘频繁项集和关联规则\n",
    "itemsets, rules = apriori(data, min_support=0.5, min_confidence=1)\n",
    "print(itemsets)\n",
    "print(rules)"
   ]
  }
 ],
 "metadata": {
  "kernelspec": {
   "display_name": "Python 3.10.2 ('venv': venv)",
   "language": "python",
   "name": "python3"
  },
  "language_info": {
   "codemirror_mode": {
    "name": "ipython",
    "version": 3
   },
   "file_extension": ".py",
   "mimetype": "text/x-python",
   "name": "python",
   "nbconvert_exporter": "python",
   "pygments_lexer": "ipython3",
   "version": "3.10.2"
  },
  "orig_nbformat": 4,
  "vscode": {
   "interpreter": {
    "hash": "497e083effc866698ebe90204fcd147bc56f56a5d7e13228b9329536eb24944c"
   }
  }
 },
 "nbformat": 4,
 "nbformat_minor": 2
}
