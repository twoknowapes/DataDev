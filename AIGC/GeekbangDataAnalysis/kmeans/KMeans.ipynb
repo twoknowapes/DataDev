{
 "cells": [
  {
   "cell_type": "code",
   "execution_count": 2,
   "metadata": {},
   "outputs": [],
   "source": [
    "# 使用 K-means 对图像进行聚类、显示分割标识的可视化\n",
    "import numpy as np\n",
    "import PIL.Image as image\n",
    "from sklearn.cluster import KMeans\n",
    "from sklearn import preprocessing"
   ]
  },
  {
   "cell_type": "code",
   "execution_count": 6,
   "metadata": {},
   "outputs": [],
   "source": [
    "# 加载图像、并对图像进行规范化\n",
    "def load_data(filePath):\n",
    "    # 读文件\n",
    "    f = open(filePath, 'rb')\n",
    "    data = []\n",
    "    # 得到图像的像素值\n",
    "    img = image.open(f)\n",
    "    # 得到图像尺寸\n",
    "    width, height = img.size\n",
    "    for x in range(width):\n",
    "        for y in range(height):\n",
    "            # 得到点 (x, y) 的三个通道值\n",
    "            c1, c2, c3 = img.getpixel((x, y))\n",
    "            data.append([c1, c2, c3])\n",
    "    f.close()\n",
    "\n",
    "    # 采用 Min-Max 规范化\n",
    "    mm = preprocessing.MinMaxScaler()\n",
    "    data = mm.fit_transform(data)\n",
    "    return np.mat(data), width, height   "
   ]
  },
  {
   "cell_type": "code",
   "execution_count": 7,
   "metadata": {},
   "outputs": [
    {
     "name": "stderr",
     "output_type": "stream",
     "text": [
      "/Users/admin/Workspace/DataDev/venv/lib/python3.10/site-packages/sklearn/utils/validation.py:727: FutureWarning: np.matrix usage is deprecated in 1.0 and will raise a TypeError in 1.2. Please convert to a numpy array with np.asarray. For more information see: https://numpy.org/doc/stable/reference/generated/numpy.matrix.html\n",
      "  warnings.warn(\n",
      "/Users/admin/Workspace/DataDev/venv/lib/python3.10/site-packages/sklearn/utils/validation.py:727: FutureWarning: np.matrix usage is deprecated in 1.0 and will raise a TypeError in 1.2. Please convert to a numpy array with np.asarray. For more information see: https://numpy.org/doc/stable/reference/generated/numpy.matrix.html\n",
      "  warnings.warn(\n"
     ]
    }
   ],
   "source": [
    "# 加载图像、得到规范化的结果 img 以及图像尺寸\n",
    "img, width, height = load_data('./weixin.jpg')\n",
    "\n",
    "# 用 K-Means 对图像进行 2 聚类\n",
    "kmeans = KMeans(n_clusters=2)\n",
    "kmeans.fit(img)\n",
    "label = kmeans.predict(img)\n",
    "# 将图像聚类结果转化成图像尺寸的矩阵\n",
    "label = label.reshape([width, height])\n",
    "# 创建个新图像 pic_mark 用来保存图像聚类的结果、并设置不同的灰度值\n",
    "pic_mark = image.new('L', (width, height))\n",
    "for x in range(width):\n",
    "    for y in range(height):\n",
    "        # 根据类别设置图像灰度、类别-0、灰度值-255、类别-1、灰度值-127\n",
    "        pic_mark.putpixel((x, y), int(256/(label[x][y] + 1)) - 1)\n",
    "pic_mark.save('weixin_mark.jpg', 'JPEG')"
   ]
  },
  {
   "cell_type": "code",
   "execution_count": 10,
   "metadata": {},
   "outputs": [
    {
     "name": "stderr",
     "output_type": "stream",
     "text": [
      "/Users/admin/Workspace/DataDev/venv/lib/python3.10/site-packages/sklearn/utils/validation.py:727: FutureWarning: np.matrix usage is deprecated in 1.0 and will raise a TypeError in 1.2. Please convert to a numpy array with np.asarray. For more information see: https://numpy.org/doc/stable/reference/generated/numpy.matrix.html\n",
      "  warnings.warn(\n",
      "/Users/admin/Workspace/DataDev/venv/lib/python3.10/site-packages/sklearn/utils/validation.py:727: FutureWarning: np.matrix usage is deprecated in 1.0 and will raise a TypeError in 1.2. Please convert to a numpy array with np.asarray. For more information see: https://numpy.org/doc/stable/reference/generated/numpy.matrix.html\n",
      "  warnings.warn(\n"
     ]
    }
   ],
   "source": [
    "from skimage import color\n",
    "\n",
    "# 加载图像、得到规范化的结果 img 以及图像尺寸\n",
    "img, width, height = load_data('./weixin.jpg')\n",
    "\n",
    "# 用 K-Means 对图像进行 16 聚类\n",
    "kmeans = KMeans(n_clusters=16)\n",
    "kmeans.fit(img)\n",
    "label = kmeans.predict(img)\n",
    "# 将图像聚类结果转化成图像尺寸的矩阵\n",
    "label = label.reshape([width, height])\n",
    "# 将聚类标识矩阵转化为不同颜色的矩阵\n",
    "lable_color = (color.label2rgb(label) * 255).astype(np.uint8)\n",
    "label_color = lable_color.transpose(1, 0, 2)\n",
    "images = image.fromarray(label_color)\n",
    "images.save('weixin_mark_color.jpg')"
   ]
  },
  {
   "cell_type": "code",
   "execution_count": 11,
   "metadata": {},
   "outputs": [
    {
     "name": "stderr",
     "output_type": "stream",
     "text": [
      "/Users/admin/Workspace/DataDev/venv/lib/python3.10/site-packages/sklearn/utils/validation.py:727: FutureWarning: np.matrix usage is deprecated in 1.0 and will raise a TypeError in 1.2. Please convert to a numpy array with np.asarray. For more information see: https://numpy.org/doc/stable/reference/generated/numpy.matrix.html\n",
      "  warnings.warn(\n"
     ]
    }
   ],
   "source": [
    "# 加载图像、得到规范化的结果 img 以及图像尺寸\n",
    "img, width, height = load_data('./weixin.jpg')\n",
    "\n",
    "# 用 K-Means 对图像进行 16 聚类\n",
    "kmeans = KMeans(n_clusters=16)\n",
    "kmeans.fit_predict(img)\n",
    "# 将图像聚类结果转化成图像尺寸的矩阵\n",
    "label = label.reshape([width, height])\n",
    "# 创建新图像 img 用来保存图像聚类压缩后的结果\n",
    "img = image.new('RGB', (width, height))\n",
    "for x in range(width):\n",
    "    for y in range(height):\n",
    "        c1 = kmeans.cluster_centers_[label[x, y], 0]\n",
    "        c2 = kmeans.cluster_centers_[label[x, y], 1]\n",
    "        c3 = kmeans.cluster_centers_[label[x, y], 2]\n",
    "        img.putpixel((x, y), (int(c1*256)-1, int(c2*256)-1, int(c3*256)-1))\n",
    "img.save('weixin_new.jpg')"
   ]
  }
 ],
 "metadata": {
  "kernelspec": {
   "display_name": "Python 3.10.2 ('venv': venv)",
   "language": "python",
   "name": "python3"
  },
  "language_info": {
   "codemirror_mode": {
    "name": "ipython",
    "version": 3
   },
   "file_extension": ".py",
   "mimetype": "text/x-python",
   "name": "python",
   "nbconvert_exporter": "python",
   "pygments_lexer": "ipython3",
   "version": "3.10.2"
  },
  "orig_nbformat": 4,
  "vscode": {
   "interpreter": {
    "hash": "497e083effc866698ebe90204fcd147bc56f56a5d7e13228b9329536eb24944c"
   }
  }
 },
 "nbformat": 4,
 "nbformat_minor": 2
}
